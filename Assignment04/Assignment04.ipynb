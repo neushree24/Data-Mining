{
 "cells": [
  {
   "cell_type": "markdown",
   "metadata": {},
   "source": [
    "#### COSC 526 - Assignment 04\n",
    "### February 12, 2021\n",
    "---\n",
    "\n",
    "The solutions to Assignment 4 are **due on Feb 19, 2021 (before 8:00AM ET).**\n",
    "\n",
    "In this notebook, we provide you with basic functions for completing the assignment.  *Complete the assignment in this notebook.  You will need to modify existing code and write new code to find a solution*.\n",
    "\n",
    "*Note: Running a cell will not rerun previous cells.  If you edit code in previous cells, you must rerun those cells.  We recommend using* `Run All` *to avoid any errors results from not rerunning previous cells.  You can find this in the menu above:* `Cell -> Run All`"
   ]
  },
  {
   "cell_type": "markdown",
   "metadata": {},
   "source": [
    "### Data Pre-Processing:\n",
    "Below is code to process a unicode text file into a string of only upper-case A-Z characters.  We use this code to read the text file (i.e., \"The Count of Monte Cristo\") and prepare the text for the following three problems.  The output string, which you should use for solving the assignment problems, is named `text_upper`."
   ]
  },
  {
   "cell_type": "code",
   "execution_count": 219,
   "metadata": {},
   "outputs": [],
   "source": [
    "# Import regular expressions library\n",
    "import re\n",
    "\n",
    "# Read the text file\n",
    "with open('book_CountOfMonteCristo.txt', 'r') as f:\n",
    "# with open('book_Idoj_de_Orfeo.txt', 'r') as f:\n",
    "# with open('FoxInSocks.txt', 'r') as f:\n",
    "\n",
    "    text_lines = f.readlines()\n",
    "\n",
    "# Concatenate the list of strings into a single string\n",
    "text_all = ''.join(text_lines)\n",
    "\n",
    "# Remove all non-alphabet characters with a regular expression\n",
    "text_alpha = re.sub(r'[^a-zA-Z]', ' ', text_all)\n",
    "\n",
    "# Convert characters to upper-case\n",
    "text_upper = text_alpha.upper()\n",
    "\n",
    "# Uncomment the following line if you would like to see the first 100 characters\n",
    "# print(text_upper[:100])"
   ]
  },
  {
   "cell_type": "markdown",
   "metadata": {},
   "source": [
    "### Problem 1:\n",
    "Analyze the text for word length frequency. We might expect short words to be more common than long words. But, are words of length 2 more common than words or length 3? Are words of length 3 more common that words of length 4? **Use the text you parsed in the previous cell to count the frequency of each word length in the text**.  *Below, we provide you with the first step to solve this problem and hints for what to do next.*"
   ]
  },
  {
   "cell_type": "code",
   "execution_count": 220,
   "metadata": {},
   "outputs": [
    {
     "name": "stdout",
     "output_type": "stream",
     "text": [
      "World Length : Count\n",
      "3            : 109798\n",
      "2            :  84021\n",
      "4            :  81777\n",
      "5            :  49101\n",
      "6            :  39015\n",
      "7            :  30701\n"
     ]
    }
   ],
   "source": [
    "# Convert the string of text into a list of words and remove empty words\n",
    "# HINT: ref [1]\n",
    "words = [w for w in text_upper.split(' ') if w != '']\n",
    "\n",
    "# Uncomment the following line to see the first 100 words\n",
    "# print(words[:100])\n",
    "\n",
    "# Define dictionary to store count of word lengths\n",
    "# HINT: ref [2]\n",
    "word_len_dict = {}\n",
    "\n",
    "# Convert list of words to list of word lengths\n",
    "\n",
    "myList = []\n",
    "\n",
    "for word in words:\n",
    "    myList.append(len(word))\n",
    "    \n",
    "# print(myList)\n",
    "\n",
    "\n",
    "\n",
    "# Count the words of each length and store in the dictionary\n",
    "# HINT: ref [3]\n",
    "\n",
    "for num in myList:\n",
    "    if num in word_len_dict:\n",
    "        word_len_dict[num] = word_len_dict[num] +1\n",
    "    else:\n",
    "        word_len_dict[num] = 1\n",
    "\n",
    "# Sort word length by most common into a list of (word length, count) tuples\n",
    "# HINT: ref [4,5,6]\n",
    "\n",
    "word_len_dict1= sorted(word_len_dict.items(), key=lambda x:x[1], reverse=True)\n",
    "\n",
    "\n",
    "\n",
    "#Print the 6 most common word lengths\n",
    "# HINT: ref [7]\n",
    "print(\"World Length : Count\") \n",
    "for wordlen, count in word_len_dict1[:6]:\n",
    "    print('{:<12d} : {:>6d}'.format(wordlen,count))\n",
    "\n"
   ]
  },
  {
   "cell_type": "markdown",
   "metadata": {},
   "source": [
    "#### Expected Output:\n",
    "```\n",
    "Word Length : Count\n",
    "3           : 109798\n",
    "2           :  84021\n",
    "4           :  81777\n",
    "5           :  49101\n",
    "6           :  39015\n",
    "7           :  30701\n",
    "```"
   ]
  },
  {
   "cell_type": "markdown",
   "metadata": {},
   "source": [
    "**References:**\n",
    "- [1: list comprehensions](https://docs.python.org/3/tutorial/datastructures.html#list-comprehensions)\n",
    "- [2: dictionaries](https://docs.python.org/3.6/library/stdtypes.html#dict)\n",
    "- [3: for loops](https://docs.python.org/3/reference/compound_stmts.html#for)\n",
    "- [4: sorted](https://docs.python.org/3/library/functions.html#sorted)\n",
    "- [5: dict.items](https://docs.python.org/3.6/library/stdtypes.html#dict.items)\n",
    "- [6: lambda expressions](https://docs.python.org/3/tutorial/controlflow.html#lambda-expressions)\n",
    "- [7: format string syntax](https://docs.python.org/3.6/library/string.html#format-string-syntax)"
   ]
  },
  {
   "cell_type": "markdown",
   "metadata": {},
   "source": [
    "### Problem 2:\n",
    "Analyze the text for letter frequency. If you have taken a crypto course and/or have seen substitution ciphers then you are probably aware that ’e’ is the most common letter used in the English language.  **Use the text you parsed above to count the frequency of each letter in the text**. *Below, we provide you with the first step to solve this problem and hints for what to do next.*"
   ]
  },
  {
   "cell_type": "code",
   "execution_count": 221,
   "metadata": {},
   "outputs": [
    {
     "name": "stdout",
     "output_type": "stream",
     "text": [
      "Character : count\n",
      "E         : 258693\n",
      "T         : 180211\n",
      "A         : 165306\n",
      "O         : 156817\n",
      "I         : 142095\n",
      "N         : 137343\n"
     ]
    }
   ],
   "source": [
    "# Import string library to help us make a dictionary for this solution\n",
    "import string\n",
    "\n",
    "# Concatenate the list of words into a string of characters\n",
    "# HINT: ref [1]\n",
    "\n",
    "\n",
    "# Define a dictionary for counting letter frequency\n",
    "# HINT: ref [2,3]\n",
    "char_count_dict = {c:0 for c in string.ascii_uppercase}\n",
    "\n",
    "# Count the letters and store in the dictionary\n",
    "text_nospace=text_upper.replace(\" \", \"\")\n",
    "for i in text_nospace:\n",
    "    if i in char_count_dict:\n",
    "        char_count_dict[i]+=1\n",
    "    else:\n",
    "        char_count_dict[i] = 1\n",
    "\n",
    "\n",
    "    \n",
    "# Sort letters by most common into a list of (letter, count) tuples\n",
    "char_count= sorted(char_count_dict.items(), key=lambda x:x[1], reverse = True)\n",
    "# print(char_count_dict1[:6])\n",
    "\n",
    "# Print the 6 most common characters\n",
    "# HINT: ref [4]\n",
    "print('Character : count')\n",
    "for letter, count in char_count[:6]:\n",
    "    print('{:<9s} : {:>6d}'.format(letter,count))\n"
   ]
  },
  {
   "cell_type": "markdown",
   "metadata": {},
   "source": [
    "#### Expected Output:\n",
    "```\n",
    "Character : Count\n",
    "E         : 258693\n",
    "T         : 180211\n",
    "A         : 165306\n",
    "O         : 156817\n",
    "I         : 142095\n",
    "N         : 137343\n",
    "```"
   ]
  },
  {
   "cell_type": "markdown",
   "metadata": {},
   "source": [
    "**References:**\n",
    "- [1: str.join](https://docs.python.org/3/library/stdtypes.html#str.join)\n",
    "- [2: list comprehensions](https://docs.python.org/3/tutorial/datastructures.html#list-comprehensions)\n",
    "- [3: dictionaries](https://docs.python.org/3.6/library/stdtypes.html#dict)\n",
    "- [4: format string syntax](https://docs.python.org/3.6/library/string.html#format-string-syntax)"
   ]
  },
  {
   "cell_type": "markdown",
   "metadata": {},
   "source": [
    "### Problem 3:\n",
    "If we really wanted to crack a substitution cipher (or win on ”Wheel of Fortune”) then we should be aware that, although \"e\" is the most common letter used in English, it may not be the most common first letter in a word. **Count the positional frequencies of each letter. Specifically, count the number of times each letter appears as the first letter in a word, as the last letter in a word, and as an interior letter in a word (i.e. a letter that is neither first nor last)**. *Below, we provide you with the first step to solve this problem and hints for what to do next.*"
   ]
  },
  {
   "cell_type": "markdown",
   "metadata": {},
   "source": [
    "Below, we define a method which takes in a word (string) and returns a list describing the position of each letter (character).  Each item in the list has the format `(letter, position)`.  The position can have the following values: `0: first letter, 1: interior letter, 2: last letter`"
   ]
  },
  {
   "cell_type": "code",
   "execution_count": 222,
   "metadata": {},
   "outputs": [],
   "source": [
    "# Define a method to return position of each character in a word\n",
    "def lettersPosition(word):\n",
    "    if len(word) == 1:\n",
    "        # Base case for words of length 1\n",
    "        return [(word, 0)]\n",
    "    else:\n",
    "        # Get first and last letters\n",
    "        first, last = word[0], word[-1]\n",
    "        pos_list = [(first, 0), (last, 2)]\n",
    "\n",
    "        # Get interior letters\n",
    "        interior = word[1:-1]\n",
    "        for char in interior:\n",
    "            pos_list.append((char, 1))\n",
    "\n",
    "    return pos_list\n",
    "\n",
    "\n"
   ]
  },
  {
   "cell_type": "markdown",
   "metadata": {},
   "source": [
    "We can call this method for each word in our list of words and sum the values to obtain letter position frequencies."
   ]
  },
  {
   "cell_type": "code",
   "execution_count": 223,
   "metadata": {
    "scrolled": true
   },
   "outputs": [
    {
     "name": "stdout",
     "output_type": "stream",
     "text": [
      "Character : First | Interior |  Last\n",
      "A         : 51644 |   111686 |  1976\n",
      "B         : 18866 |     8516 |   541\n",
      "C         : 19577 |    32130 |   725\n",
      "D         : 17289 |    18613 | 58075\n",
      "E         : 10178 |   153205 | 95310\n",
      "F         : 17724 |    10618 | 16988\n"
     ]
    }
   ],
   "source": [
    "# Define a dictionary for counting letter position frequency\n",
    "char_pos_dict = {c:[0,0,0] for c in string.ascii_uppercase}\n",
    "\n",
    "\n",
    "for word in words:\n",
    "    pos=lettersPosition(word)\n",
    "    for char in pos:\n",
    "        char_pos_dict[char[0]][char[1]] +=1\n",
    "        \n",
    "char_pos= sorted(char_pos_dict.items(), key=lambda x:x[0], reverse = False) \n",
    "\n",
    "# Apply our letter location method to each word and sum values in our dictionary\n",
    "\n",
    "        \n",
    "# Print the position frequency of the first 6 letters in the alphabet\n",
    "print('Character : First | Interior |  Last')\n",
    "for char, pos in char_pos[:6]:\n",
    "    print('{:9s} : {:>5d} | {:>8d} | {:>5d}'.format(char, pos[0], pos[1], pos[2]))\n",
    "   \n"
   ]
  },
  {
   "cell_type": "markdown",
   "metadata": {},
   "source": [
    "#### Expected Output:\n",
    "```\n",
    "Character : First | Interior |  Last\n",
    "A         : 51644 |   111686 |  1976\n",
    "B         : 18866 |     8516 |   541\n",
    "C         : 19577 |    32130 |   725\n",
    "D         : 17289 |    18613 | 58075\n",
    "E         : 10178 |   153205 | 95310\n",
    "F         : 17724 |    10618 | 16988\n",
    "```"
   ]
  },
  {
   "cell_type": "markdown",
   "metadata": {},
   "source": [
    "### Problem 4:\n",
    "For problems 1, 2, and 3 you may want to present your results in a (graphically) nice way. This could be done with a histogram. It is probably easiest to build the histogram using whatever software package you feel comfortable with, but we recommend the python module `matplotlib`. Make sure to give your plots meaningful labels (including axis labels and a title)."
   ]
  },
  {
   "cell_type": "code",
   "execution_count": 224,
   "metadata": {},
   "outputs": [],
   "source": [
    "# Import matplotlib's pyplot\n",
    "# HINT: ref[1]\n",
    "from matplotlib import pyplot as plt\n",
    "import numpy as np\n",
    "\n"
   ]
  },
  {
   "cell_type": "markdown",
   "metadata": {},
   "source": [
    "We provide the code to plot the histogram of word lengths from problem 1 below.  Use this code as a template to produce histograms for Problems 2 and 3.  *Note: this code assumes that you have a dictionary, `word_len_dict`, with keys containing the word length and values containing the count of words with a given length (i.e., an entry of `3:109798` in the dictionary indicates that there are 109,798 words of length 3).*"
   ]
  },
  {
   "cell_type": "code",
   "execution_count": 225,
   "metadata": {},
   "outputs": [
    {
     "data": {
      "image/png": "[encoded data removed]",
      "text/plain": [
       "<Figure size 432x288 with 1 Axes>"
      ]
     },
     "metadata": {
      "needs_background": "light"
     },
     "output_type": "display_data"
    }
   ],
   "source": [
    "# Sort word length dictionary by length of word\n",
    "wl_sorted = sorted(word_len_dict.items(), key=lambda x: x[0])\n",
    "\n",
    "# Get X and Y values\n",
    "# HINT: ref[2]\n",
    "X_vals, Y_vals = zip(*wl_sorted)\n",
    "\n",
    "# Plot the histogram for problem 1'\n",
    "# HINT: ref[3]\n",
    "plt.bar(X_vals, Y_vals, 0.75)\n",
    "plt.xlim((.125, len(X_vals)))\n",
    "plt.xticks(range(1,len(X_vals)+1,2))\n",
    "plt.xlabel('Word Length')\n",
    "plt.ylabel('Word Length Count')\n",
    "plt.title('Word Length Count in The Count of Monte Cristo')\n",
    "plt.show()"
   ]
  },
  {
   "cell_type": "markdown",
   "metadata": {},
   "source": [
    "**References:**\n",
    "- [1: pyplot tutorial](https://matplotlib.org/tutorials/introductory/pyplot.html)\n",
    "- [2: zip](https://docs.python.org/3/library/functions.html#zip)\n",
    "- [3: pyplot.bar](https://matplotlib.org/api/_as_gen/matplotlib.pyplot.bar.html)"
   ]
  },
  {
   "cell_type": "markdown",
   "metadata": {},
   "source": [
    "In the cell below, write the code for the visualization of results from Problem 2."
   ]
  },
  {
   "cell_type": "code",
   "execution_count": 226,
   "metadata": {},
   "outputs": [
    {
     "data": {
      "image/png": "[encoded data removed]",
      "text/plain": [
       "<Figure size 432x288 with 1 Axes>"
      ]
     },
     "metadata": {
      "needs_background": "light"
     },
     "output_type": "display_data"
    }
   ],
   "source": [
    "## Write here your code\n",
    "cc_sorted = sorted(char_count_dict.items(), key=lambda x: x[0])\n",
    "# print(cc_sorted)\n",
    "\n",
    "# Get X and Y values\n",
    "# HINT: ref[2]\n",
    "X_vals, Y_vals = zip(*cc_sorted)\n",
    "# print(X_vals, Y_vals)\n",
    "\n",
    "# Plot the histogram for problem 1'\n",
    "# HINT: ref[3]\n",
    "plt.bar(X_vals, Y_vals)\n",
    "plt.xlabel(\"Character\")\n",
    "plt.ylabel('Count')\n",
    "plt.title(\"Character Count in The Count of Monte Cristo\")\n",
    "plt.show()"
   ]
  },
  {
   "cell_type": "markdown",
   "metadata": {},
   "source": [
    "In the cell below, write the code for the visualization of results from Problem 3."
   ]
  },
  {
   "cell_type": "code",
   "execution_count": 230,
   "metadata": {
    "scrolled": true
   },
   "outputs": [
    {
     "data": {
      "image/png": "[encoded data removed]",
      "text/plain": [
       "<Figure size 1584x792 with 1 Axes>"
      ]
     },
     "metadata": {
      "needs_background": "light"
     },
     "output_type": "display_data"
    }
   ],
   "source": [
    "## Write here your code\n",
    "cp_sorted = sorted(char_pos_dict.items(), key=lambda x: x[0])\n",
    "\n",
    "character = []\n",
    "PosFirst=[]\n",
    "PosInterior = []\n",
    "PosLast = []\n",
    "for char, pos in cp_sorted:\n",
    "    character.append(char)\n",
    "    PosFirst.append(pos[0])\n",
    "    PosInterior.append(pos[1])\n",
    "    PosLast.append(pos[2])\n",
    "    \n",
    "x=np.arange(len(character)) \n",
    "plt.figure(figsize=(22,11))\n",
    "width=0.25\n",
    "plt.bar(x, PosFirst,width, label='First')\n",
    "plt.bar(x+ width, PosInterior,width, label='Interior')\n",
    "plt.bar(x+2*width, PosLast, width, label='Last')\n",
    "plt.xticks(x+width/2, character,fontsize = 20)\n",
    "plt.xlabel('Character',fontsize = 20)\n",
    "plt.ylabel('Count', fontsize = 20)\n",
    "plt.rcParams['ytick.labelsize']=8\n",
    "plt.title('Position of Characters in The Count of Monte Cristo', fontsize = 20)\n",
    "plt.legend(prop={\"size\":25})\n",
    "plt.show()"
   ]
  },
  {
   "cell_type": "markdown",
   "metadata": {},
   "source": [
    "### Practical Tasks:\n",
    "- You are reading and analyzing the text in a single, sequential pass. Can you consider a better (faster) way to perform the same tasks?\n",
    "- Rerun your code with a different manuscript. What if you use an ancient manuscript or a manuscript written in a different language than English? \n",
    "\n",
    "Outline below your findings."
   ]
  },
  {
   "cell_type": "markdown",
   "metadata": {},
   "source": [
    "I just followed the steps described above but I might try the faster ways later.\n",
    "I tried a couple of other books, including a book written in Esperanto language. It seems 'A' is the higest frequency one in this language."
   ]
  },
  {
   "cell_type": "markdown",
   "metadata": {},
   "source": [
    "### Free-Form Questions:\n",
    "\n",
    "Tell us about your experience (for each quesiton provide a couple of sentences).\n",
    "- Describe the challenges you faced in addressing these tasks and how you overcame these challenges.\n",
    "- Did you work with other students on this assignment? If yes, how did you help them? How did they help you?"
   ]
  },
  {
   "cell_type": "markdown",
   "metadata": {},
   "source": [
    "Problem 1 and 2 were quite straight forward but problem 3 was a bit of tricky for me to fill the dictionary. I discussed with a friend and got it worked out. First two plots of problem 4 were just fine but needed to brainstrom a bit for the third plot."
   ]
  },
  {
   "cell_type": "markdown",
   "metadata": {},
   "source": [
    "### Live Chat: Live Chat:\u000b",
    "2020 Breakthrough Prize Winner Shep Doeleman—How EHT Imaged a Black Hole"
   ]
  },
  {
   "cell_type": "markdown",
   "metadata": {},
   "source": [
    "After watching this video: https://www.youtube.com/watch?v=KHa0X4y3ulw\n",
    "        \n",
    "Answer the follogin quesitons: "
   ]
  },
  {
   "cell_type": "markdown",
   "metadata": {},
   "source": [
    "**Quesiton 1:** Summarize the video in up to 100 words."
   ]
  },
  {
   "cell_type": "raw",
   "metadata": {},
   "source": [
    "The project started with just 20 peoples with the aim of getting the first image of massive black holes. Later it became a group of more than 200 people working on this project worldwide. For this project, it needed an earth-size telescope. They put the telescope in the different parts of the earth, took data in the dishes, and combine them later. To do the data analysis, they form four different teams in different parts of the world. Each group got the data and worked independently in complete isolation. After analyzing data they all found a similarity in the image which is the ring-like structure. To verify the image is right, they created three algorithms and put the data in these algorithms that mimic the original data. They also included all possible errors that could happen during real data taking. The three different methods were giving the same result. In this way, they were able to get the very first image of the black hole.\n"
   ]
  },
  {
   "cell_type": "markdown",
   "metadata": {},
   "source": [
    "\n",
    "**Quesiton 2:** What is the link between the EHT project and data sciences?"
   ]
  },
  {
   "cell_type": "markdown",
   "metadata": {},
   "source": [
    "The ETS project is all about taking data and analyzing it but on a very large scale. The data stored in numerous dishes and physically transported later. They analyze the data and got the first image of the black hole. They ran through different algorithms to extract and verify the results. Basically, the ETS project followed the three key concepts of big data; collecting data(facts), analysis and visualization (framework), and extracting value (algorithm)."
   ]
  },
  {
   "cell_type": "markdown",
   "metadata": {},
   "source": [
    "**Queston 3:** What are the limits these scientist had to face to rebuild the first image of a black hole?\n",
    "How did they resolved the challenges? "
   ]
  },
  {
   "cell_type": "markdown",
   "metadata": {},
   "source": [
    "The first challenge was to build an earth-size telescope. To overcome this, they put the telescope in the different parts of the earth. Another challenge was the data transfer. They stored the data in the physical dishes and carry them later. The most difficult challenge was to analyze the data and extract the result. For this, they divided the work between four independent groups and work in complete isolation. They also use three different algorithms to extract and verify the result."
   ]
  }
 ],
 "metadata": {
  "kernelspec": {
   "display_name": "Python 3",
   "language": "python",
   "name": "python3"
  },
  "language_info": {
   "codemirror_mode": {
    "name": "ipython",
    "version": 3
   },
   "file_extension": ".py",
   "mimetype": "text/x-python",
   "name": "python",
   "nbconvert_exporter": "python",
   "pygments_lexer": "ipython3",
   "version": "3.8.3"
  }
 },
 "nbformat": 4,
 "nbformat_minor": 2
}
