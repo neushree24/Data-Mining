{
 "cells": [
  {
   "cell_type": "markdown",
   "metadata": {},
   "source": [
    "# COSC 526 - Assignment in Lecture 03\n",
    "### February 5, 2021\n",
    "---\n",
    "The solutions to this assignment are **due on Feb 15, 2021 (before 8AM ET).**\n",
    "\n",
    "In this notebook, we provide you with basic functions for completing the assignment.  *Complete the assignment in this notebook.  You will need to modify existing code and write new code to find a solution*.  Each member of the group must upload their own work (i.e., a notebook file) to GitHub.\n",
    "\n",
    "**Yes, you can find the solutions online, but why looking for a solution if you can find it by brainstorming with your peers and challenging yourself? Try not to look for a solution at least until the end of this lecture. Unleash your imagination, build a network of peers by finding your own solution.**\n",
    "\n",
    "### Things to consider:\n",
    "\n",
    "- Running a cell will not rerun previous cells.  If you edit code in previous cells, you must rerun those cells.  We recommend using* `Run All` to avoid any errors results from not rerunning previous cells.  You can find this in the menu above:* `Cell -> Run All`\n",
    "\n",
    "- When solving a programming problem such as Problems 1-3 below, it is generally a bad idea to try and optimize your program in your first attempt. Rather than implementing clever algorithms right away, it is better to write a simple script that you are certain will work and is easier to debug. Once your script runs correctly (possibly with smaller input than the final problem you wish to solve), commit your working solution to your GitHub repository, then you can think about how to improve it."
   ]
  },
  {
   "cell_type": "markdown",
   "metadata": {},
   "source": [
    "---\n",
    "## Problem 1:\n",
    "(From [ProjectEuler Problem 1](https://projecteuler.net/problem=1).) If we list the natural numbers below 10 that are multiples of 3 or 5, we get: 3, 5, 6, and 9. The sum of these multiples is 23. Write a function that finds the sum of the multiples of $p$ or $q$ below $N$. \n",
    "\n",
    "#### Assumptions and constraints:\n",
    "\n",
    "Assume that $1 \\leq p < q < N$ and that each of these values are integers. Your code should be able to (a) handle values of $N$ up to at least 100,000,000 and (b) terminate in less than 1 second.\n",
    "\n",
    "#### Things to consider:\n",
    "\n",
    "- There are two general approaches to this problem, the naïve (slower) approach and a more mathematical (faster) approach involving the [inclusion-exclusion principle](https://en.wikipedia.org/wiki/Inclusion%E2%80%93exclusion_principle). To meet the performance constraints, you will have to implement the fast approach.\n",
    "- There are different approaching to measure execution times (wall-clock times). The approach below is one of them. Use what you prefer, as long as you measure wall clock time."
   ]
  },
  {
   "cell_type": "code",
   "execution_count": 7,
   "metadata": {},
   "outputs": [
    {
     "name": "stdout",
     "output_type": "stream",
     "text": [
      "23\n",
      "Duration: 0.0006868839263916016 seconds\n",
      "23331668\n",
      "Duration: 0.00015997886657714844 seconds\n",
      "2333333316666668\n",
      "Duration: 0.00014209747314453125 seconds\n"
     ]
    }
   ],
   "source": [
    "import time\n",
    "import math\n",
    "\n",
    "#function to find the sum of multiples of given number a less than n.\n",
    "def find_sum(n,a):\n",
    "    n=n//a\n",
    "    return (n) * (1+n) * a // 2\n",
    "\n",
    "#Define the function to take three arguments.\n",
    "def sumOfMultiples(p, q, n):\n",
    "    n=n-1\n",
    "    lcm_pq = (p*q)//math.gcd(p,q)\n",
    "    sum_p = find_sum(n,p)\n",
    "    sum_q = find_sum(n,q)\n",
    "    sum_pq = find_sum(n,lcm_pq)\n",
    "    \n",
    "    return sum_p + sum_q - sum_pq\n",
    "   \n",
    "    \n",
    "# Print the output of your function for p=3, q=5, n=10.\n",
    "start_time = time.time()\n",
    "print(sumOfMultiples(3, 5, 10))\n",
    "print(\"Duration: %s seconds\" % (time.time() - start_time))\n",
    "\n",
    "# Print the output of your function for p=3, q=5, n=10000.\n",
    "start_time = time.time()\n",
    "print(sumOfMultiples(3, 5, 10000))\n",
    "print(\"Duration: %s seconds\" % (time.time() - start_time))\n",
    "\n",
    "# Print the output of your function for p=3, q=5, n=10000000.\n",
    "start_time = time.time()\n",
    "print(sumOfMultiples(3, 5, 100000000))\n",
    "print(\"Duration: %s seconds\" % (time.time() - start_time))"
   ]
  },
  {
   "cell_type": "markdown",
   "metadata": {},
   "source": [
    "**Expected Output:** Please note that the execution times must be less than 1 second but the measured values will change from run to run.\n",
    "\n",
    "23<br>\n",
    "Duration: 0.0012371540069580078 seconds<br>\n",
    "23331668<br>\n",
    "Duration: 0.00026607513427734375 seconds<br>\n",
    "2333333316666668<br>\n",
    "Duration: 0.00013208389282226562 seconds<br>\n"
   ]
  },
  {
   "cell_type": "markdown",
   "metadata": {},
   "source": [
    "---\n",
    "## Problem 2:\n",
    "(From [ProjectEuler Problem 22](https://projecteuler.net/problem=22).)\n",
    "The file p022_names.txt contains one line with over 5000 comma-separated names, each in all-capital letters and enclosed in quotes. Import the names and sort them into alphabetical order. Then working out the alphabetical value for each name, multiply this value by its alphabetical position in the list to obtain a name score.\n",
    "\n",
    "For example, when the list is sorted into alphabetical order, COLIN, which is worth 3 + 15 + 12 + 9 + 14 = 53, is the 938th name in the list. So, COLIN would obtain a score of 938 \\* 53 = 49714.\n",
    "\n",
    "What is the total of the scores for all the names in the file?"
   ]
  },
  {
   "cell_type": "code",
   "execution_count": 8,
   "metadata": {},
   "outputs": [
    {
     "name": "stdout",
     "output_type": "stream",
     "text": [
      "871683246\n",
      "Duration: 0.0003609657287597656 seconds\n"
     ]
    }
   ],
   "source": [
    "# Rather than manually stripping and slicing the data as we did in the previous assigment, \n",
    "# let's use the csv module.\n",
    "import csv, operator, time\n",
    "\n",
    "with open('p022_names.txt') as namefile:\n",
    "    # Complete the line below by specifying the appropriate arguments. \n",
    "    # HINT: ref [1]\n",
    "    name_reader = csv.reader(namefile, delimiter = ',')\n",
    "    names = next(name_reader)\n",
    "    \n",
    "    sortedlist =sorted(names)\n",
    "    \n",
    "    tot_score=0\n",
    " \n",
    "    for i in range(len(sortedlist)):\n",
    "        s=sortedlist[i]\n",
    "\n",
    "        score=0\n",
    "        for j in range(len(s)):\n",
    "             score +=(ord(s[j]) - 64)\n",
    "        idx=i+1\n",
    "            \n",
    "        tot_score+=score*idx\n",
    "            \n",
    "start_time = time.time()\n",
    "print(tot_score)\n",
    "print(\"Duration: %s seconds\" % (time.time()-start_time))\n",
    "         \n",
    "           \n",
    "       \n",
    " \n"
   ]
  },
  {
   "cell_type": "markdown",
   "metadata": {},
   "source": [
    "**References:**\n",
    "- [1: csv.reader](https://docs.python.org/3.6/library/csv.html#csv.reader)\n",
    "- [2: sort](https://docs.python.org/3.6/library/stdtypes.html#list.sort)<br>\n",
    "Note: we can use the function list.sort() without any added arguments, but the sort function has additional capabilities worth exploring. See [HowTo/Sorting](https://wiki.python.org/moin/HowTo/Sorting) for more details.\n",
    "- [3: ord](https://docs.python.org/3.6/library/functions.html#ord)\n",
    "- [4: enumerate](https://docs.python.org/3/library/functions.html#enumerate)"
   ]
  },
  {
   "cell_type": "markdown",
   "metadata": {},
   "source": [
    "**Expected Output:**\n",
    "\n",
    "871683246"
   ]
  },
  {
   "cell_type": "markdown",
   "metadata": {},
   "source": [
    "---\n",
    "## Problem 3:\n",
    "(From [ProjectEuler Problem 45](https://projecteuler.net/problem=45).)\n",
    "Triangular, Pentagonal, and Hexagonal numbers are generated by the following formulae:\n",
    "\n",
    "| Polygonal  | *formula for nth term*    |*sequence of terms*    |\n",
    "| ---------- | ------------------------- | ----------------------|\n",
    "| Triangular | $T_n = \\frac{n(n+1)}{2}$  | 1, 3, 6, 10, 15, ...  |\n",
    "| Pentagonal | $P_n = \\frac{n(3n-1)}{2}$ | 1, 5, 12, 22, 35, ... |\n",
    "| Hexagonal  | $H_n = n(2n-1)$            | 1, 6, 15, 28, 45, ... |\n",
    "   \n",
    "The number 1 is triangular, pentagonal, and hexagonal (TPH).  Less obviously, $40755=T_{285}=P_{165}=H_{143}$ is also TPH. In fact, 40755 is the smallest TPH number bigger than 1. \n",
    "\n",
    "Write a function to find the smallest TPH number bigger than $n$. Use your function to find the smallest TPH bigger than 40755.\n",
    "\n",
    "#### Things to consider:\n",
    "\n",
    "- Your choice of data structure can have a significant impact on runtime. Think about which operations you are doing the most and choose a data structure which minimizes the average time for this particular operation. Python has many built-in data structures; the most common data structures are lists, dictionaries, and sets, but Python also has heaps and queues."
   ]
  },
  {
   "cell_type": "code",
   "execution_count": 10,
   "metadata": {
    "scrolled": false
   },
   "outputs": [
    {
     "name": "stdout",
     "output_type": "stream",
     "text": [
      "40755.0\n",
      "Duration: 0.0003619194030761719 seconds\n",
      "40755\n",
      "Duration: 0.0001227855682373047 seconds\n",
      "1533776805.0\n",
      "Duration: 0.023900985717773438 seconds\n"
     ]
    }
   ],
   "source": [
    "# The function numpy.argmin may come in handy (ref [1]), but is not necessary.\n",
    "# from numpy import argmin\n",
    "import math, time\n",
    "\n",
    "# You will probably want to define functions that compute the n-th polygonal number\n",
    "# for various polygons. \n",
    "def getTri(x):\n",
    "    return x * (x + 1) // 2\n",
    "def getPent(x):\n",
    "    return (x * (3*x - 1)) // 2\n",
    "def getHex(x):\n",
    "    return x * (2*x - 1)\n",
    "\n",
    "def solve_quad(a, b, c):\n",
    "    d = b**2 - 4*a*c\n",
    "    return (-1*b + d**0.5) / (2*a)\n",
    "\n",
    "\n",
    "#function to find index and value of next hexagonal number\n",
    "def nextH(n): \n",
    "    h_quad_sol = solve_quad(2, -1, -n)\n",
    "    if h_quad_sol.is_integer():\n",
    "        Idx = h_quad_sol+1\n",
    "    else:\n",
    "        Idx = math.ceil(h_quad_sol)\n",
    "    return Idx, getHex(Idx)\n",
    "\n",
    "    \n",
    "#function to check the hexagonal number n is also pentagonal or not.\n",
    "def Pchecker(n):\n",
    "    p_quad_sol = solve_quad(1.5, -0.5, -n)\n",
    "    return p_quad_sol.is_integer()\n",
    "\n",
    "# Now write a function that returns the least TPH number greater than n. \n",
    "def nextTPH(n):        \n",
    "    Indx = nextH(n)[0]\n",
    "    Hex_num = getHex(Indx)\n",
    "    while(Pchecker(Hex_num) == False):\n",
    "        Indx +=1\n",
    "        Hex_num = getHex(Indx)\n",
    "    \n",
    "    \n",
    "    return Hex_num\n",
    "\n",
    "# Print the output of your function for n=1 and again for n=40754.\n",
    "start_time = time.time()\n",
    "print(nextTPH(1))\n",
    "print(\"Duration: %s seconds\" % (time.time()-start_time))\n",
    "\n",
    "\n",
    "start_time = time.time()\n",
    "print(nextTPH(40754))\n",
    "print(\"Duration: %s seconds\" % (time.time()-start_time))\n",
    "\n",
    "start_time = time.time()\n",
    "print(nextTPH(40755))\n",
    "print(\"Duration: %s seconds\" % (time.time()-start_time))\n",
    "\n"
   ]
  },
  {
   "cell_type": "markdown",
   "metadata": {},
   "source": [
    "**References:**\n",
    "- [1: argmin](https://docs.scipy.org/doc/numpy-1.13.0/reference/generated/numpy.argmin.html)\n",
    "- [2: Wikipedia: quadratic formula](https://en.wikipedia.org/wiki/Quadratic_formula)"
   ]
  },
  {
   "cell_type": "markdown",
   "metadata": {},
   "source": [
    "**Expected Output:**\n",
    "\n",
    "40755<br>\n",
    "40755<br>\n",
    "1533776805"
   ]
  },
  {
   "cell_type": "markdown",
   "metadata": {},
   "source": [
    "---\n",
    "## Are you ready for an additional challenge?\n",
    "## Problem 4 (Optional):\n",
    "\n",
    "(From [ProjectEuler Problem 87](https://projecteuler.net/problem=87).)\n",
    "The smallest number expressible as the sum of a prime square, a prime cube, and a prime fourth power is $28 = 2^2 + 2^3 + 2^4$. In fact, there are exactly four numbers below $50$ that can be expressed in such a way:\n",
    "\n",
    "$ 28 = 2^2 +2^3 +2^4 $<br>\n",
    "$ 33 = 3^2 +2^3 +2^4 $<br>\n",
    "$ 49 = 5^2 +2^3 +2^4 $<br>\n",
    "$ 47 = 2^2 +3^3 +2^4 $<br>\n",
    "\n",
    "Write code to determine the number of positive integers smaller than $N$ that can be written as the sum of a prime square, a prime cube, and a prime fourth power. Your code must accept a single command line parameter (this time your jupyter notebook accepts a user input), $N$, and print a single integer. For example, given the input equal to 50, the output is 4.\n",
    "\n",
    "#### Assumptions and constraints:\n",
    "\n",
    "For testing, you may assume that $N$ is a positive integer and that $N \\leq 50,000,000$. You should be able to compute the answer when $N = 50,000,000$ and terminate in less than 1 minutes. \n",
    "\n",
    "#### Things to consider:\n",
    "\n",
    "- If you are having a hard time getting started, then break down the problem into smaller manageable pieces. Almost certainly you’ll need to have a list of primes handy. Can you generate a list of primes? How big do your prime numbers need to be?"
   ]
  },
  {
   "cell_type": "code",
   "execution_count": null,
   "metadata": {},
   "outputs": [],
   "source": [
    "import sys\n",
    "import time\n",
    "\n",
    "# Define the function to take one arguments.\n",
    "# In this problem you have to define the steps of the solution. \n",
    "def countnumbers(n):\n",
    "\n",
    "    ## '0' is space holder and has to be replaced with the function output\n",
    "    return(0)\n",
    "# Enter the input number from console\n",
    "n = int(input(\"Enter number :\"))\n",
    "\n",
    "# Print the output of your function\n",
    "start_time = time.time()\n",
    "print(countnumbers(n))\n",
    "print(\"Duration: %s seconds\" % (time.time() - start_time))"
   ]
  },
  {
   "cell_type": "markdown",
   "metadata": {},
   "source": [
    "### Free-Form Questions:\n",
    "Tell us about your experience (for each quesiton provide a couple of sentences).\n",
    "- Describe the challenges you faced in addressing these tasks and how you overcame these challenges.\n",
    "- Did you work with other students on this assignment? If yes, how did you help them? How did they help you?"
   ]
  },
  {
   "cell_type": "markdown",
   "metadata": {},
   "source": [
    "The main challenge was to find the robust solution (the solution that outputs fast). The starting point was the very naive solution but made it more robust eventually by taking less time consuming approaches.\n",
    "Yes, I worked with my friend. We discussed the ways to find the fast approach to the solutions."
   ]
  }
 ],
 "metadata": {
  "kernelspec": {
   "display_name": "Python 3",
   "language": "python",
   "name": "python3"
  },
  "language_info": {
   "codemirror_mode": {
    "name": "ipython",
    "version": 3
   },
   "file_extension": ".py",
   "mimetype": "text/x-python",
   "name": "python",
   "nbconvert_exporter": "python",
   "pygments_lexer": "ipython3",
   "version": "3.8.3"
  }
 },
 "nbformat": 4,
 "nbformat_minor": 2
}
